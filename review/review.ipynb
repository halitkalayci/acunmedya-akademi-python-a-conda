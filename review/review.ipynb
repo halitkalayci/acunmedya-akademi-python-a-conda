{
 "cells": [
  {
   "cell_type": "code",
   "execution_count": 16,
   "id": "2365e8a8-24ef-4bca-996a-1bf3dcfdab0b",
   "metadata": {},
   "outputs": [],
   "source": [
    "#!pip install psycopg2"
   ]
  },
  {
   "cell_type": "code",
   "execution_count": 17,
   "id": "35a1c85f-ca31-4148-b58a-3efd088f59c0",
   "metadata": {},
   "outputs": [],
   "source": [
    "import psycopg2\n",
    "connection = psycopg2.connect(\n",
    "    dbname='testdb',\n",
    "    user='postgres',\n",
    "    password='1234',\n",
    "    host='193.203.191.79',\n",
    "    port='32001'\n",
    ")\n",
    "query = \"Select * from users\""
   ]
  },
  {
   "cell_type": "code",
   "execution_count": 18,
   "id": "bb0c46bb-e391-409d-915c-8a27f6ed7c42",
   "metadata": {},
   "outputs": [
    {
     "name": "stderr",
     "output_type": "stream",
     "text": [
      "C:\\Users\\PC1\\AppData\\Local\\Temp\\ipykernel_54156\\3020219344.py:3: UserWarning: pandas only supports SQLAlchemy connectable (engine/connection) or database string URI or sqlite3 DBAPI2 connection. Other DBAPI2 objects are not tested. Please consider using SQLAlchemy.\n",
      "  df = pd.read_sql(query, connection)\n"
     ]
    }
   ],
   "source": [
    "import pandas as pd\n",
    "\n",
    "df = pd.read_sql(query, connection)\n",
    "connection.close()"
   ]
  },
  {
   "cell_type": "code",
   "execution_count": 19,
   "id": "ca5fd895-bf37-45fe-aec7-2510b38fed25",
   "metadata": {},
   "outputs": [
    {
     "data": {
      "text/html": [
       "<div>\n",
       "<style scoped>\n",
       "    .dataframe tbody tr th:only-of-type {\n",
       "        vertical-align: middle;\n",
       "    }\n",
       "\n",
       "    .dataframe tbody tr th {\n",
       "        vertical-align: top;\n",
       "    }\n",
       "\n",
       "    .dataframe thead th {\n",
       "        text-align: right;\n",
       "    }\n",
       "</style>\n",
       "<table border=\"1\" class=\"dataframe\">\n",
       "  <thead>\n",
       "    <tr style=\"text-align: right;\">\n",
       "      <th></th>\n",
       "      <th>id</th>\n",
       "      <th>name</th>\n",
       "      <th>email</th>\n",
       "      <th>review</th>\n",
       "      <th>rating</th>\n",
       "    </tr>\n",
       "  </thead>\n",
       "  <tbody>\n",
       "    <tr>\n",
       "      <th>0</th>\n",
       "      <td>1</td>\n",
       "      <td>Raymond Howard</td>\n",
       "      <td>erodriguez@example.net</td>\n",
       "      <td>Partner trouble serious sign bar follow. Assum...</td>\n",
       "      <td>6.8</td>\n",
       "    </tr>\n",
       "  </tbody>\n",
       "</table>\n",
       "</div>"
      ],
      "text/plain": [
       "   id            name                   email  \\\n",
       "0   1  Raymond Howard  erodriguez@example.net   \n",
       "\n",
       "                                              review  rating  \n",
       "0  Partner trouble serious sign bar follow. Assum...     6.8  "
      ]
     },
     "execution_count": 19,
     "metadata": {},
     "output_type": "execute_result"
    }
   ],
   "source": [
    "df.head(1)"
   ]
  },
  {
   "cell_type": "code",
   "execution_count": 20,
   "id": "3a04443d-c6b0-4e22-9155-1e314c91bca5",
   "metadata": {},
   "outputs": [],
   "source": [
    "texts = df['review'].values\n",
    "ratings = df['rating'].values"
   ]
  },
  {
   "cell_type": "code",
   "execution_count": 21,
   "id": "734eacef-42ee-48e5-b203-2425c1ad1574",
   "metadata": {},
   "outputs": [],
   "source": [
    "from sklearn.model_selection import train_test_split\n",
    "\n",
    "X_train, X_test, y_train, y_test = train_test_split(texts,ratings,test_size=0.3,random_state=42)"
   ]
  },
  {
   "cell_type": "code",
   "execution_count": 23,
   "id": "e02d8dcf-a3b9-45f4-a378-de750e7549e4",
   "metadata": {},
   "outputs": [],
   "source": [
    "#!pip install tensorflow"
   ]
  },
  {
   "cell_type": "code",
   "execution_count": 26,
   "id": "32a05462-2e0e-4766-a90a-2b0ab37adbcf",
   "metadata": {},
   "outputs": [],
   "source": [
    "from tensorflow.keras.preprocessing.text import Tokenizer # alternatifler?\n",
    "\n",
    "tokenizer = Tokenizer(num_words=10000, oov_token='<OOV>') # Out-of Vocabulary\n",
    "tokenizer.fit_on_texts(X_train)"
   ]
  },
  {
   "cell_type": "code",
   "execution_count": 28,
   "id": "55233a94-fb6c-45b2-b7c0-f7c199212e11",
   "metadata": {},
   "outputs": [],
   "source": [
    "#tokenizer.word_index\n",
    "# last idea -> [ 383, 382 ]"
   ]
  },
  {
   "cell_type": "code",
   "execution_count": 33,
   "id": "f551935b-15b8-4f70-9aca-0f98dcd5c395",
   "metadata": {},
   "outputs": [],
   "source": [
    "X_train_seq = tokenizer.texts_to_sequences(X_train)\n",
    "X_test_seq = tokenizer.texts_to_sequences(X_test)"
   ]
  },
  {
   "cell_type": "code",
   "execution_count": 46,
   "id": "3911b64d-91e9-40bd-af37-101839688bfe",
   "metadata": {},
   "outputs": [],
   "source": [
    "# Padding ? => Bütün cümleleri aynı boyuta getirme.\n",
    "# Bir boyut belirle. Her cümleyi bu boyuta getir. Uzunsa kırpıyoruz => gerekirse 2-3 arraye çevir [50] [50] [50]\n",
    "# 39 0 0 0 0 0x11\n",
    "from tensorflow.keras.preprocessing.sequence import pad_sequences\n",
    "\n",
    "X_train_pad = pad_sequences(X_train_seq, maxlen=50, padding=\"post\") # post-> boşluklar sona | pre->boşluklar başa\n",
    "X_test_pad = pad_sequences(X_test_seq, maxlen=50, padding=\"post\")"
   ]
  },
  {
   "cell_type": "code",
   "execution_count": 49,
   "id": "cdc6ef2d-5d9e-4048-96e8-0b31f673f9ef",
   "metadata": {},
   "outputs": [],
   "source": [
    "# Modeli kur?\n",
    "import tensorflow as tf\n",
    "\n",
    "model = tf.keras.Sequential([\n",
    "    tf.keras.layers.Embedding(input_dim=10000, output_dim=64, input_length=50), # kelimeleri vektörlere çevir.\n",
    "    tf.keras.layers.Bidirectional(tf.keras.layers.LSTM(64)), # LSTM (64 nöronluk) Long Short Term Memory # 64+64=>128\n",
    "    tf.keras.layers.Dense(32, activation='relu'),\n",
    "    tf.keras.layers.Dropout(0.4), # %40 oranında nöronları pasif halde çalıştırmak\n",
    "    tf.keras.layers.Dense(1, activation=\"linear\") # 1=> Çıktı adet sayısı (review skoru) #activation=\"linear\" f(x) = x\n",
    "])\n",
    "model.compile(loss='mean_squared_error', optimizer='adam', metrics=['mae'])\n",
    "\n",
    "# Backpropagation nedir? Araştıralım."
   ]
  },
  {
   "cell_type": "code",
   "execution_count": 36,
   "id": "28d4408f-6ce4-498b-89ac-9744dab718df",
   "metadata": {},
   "outputs": [],
   "source": [
    "# Eğit"
   ]
  },
  {
   "cell_type": "code",
   "execution_count": 35,
   "id": "75218072-32ca-441b-8051-6ff0f5ea7feb",
   "metadata": {},
   "outputs": [],
   "source": [
    "# Metrikler?"
   ]
  },
  {
   "cell_type": "code",
   "execution_count": 39,
   "id": "6f8d471a-e827-4a16-9aef-3c2d3d242773",
   "metadata": {},
   "outputs": [],
   "source": [
    "# 14:10"
   ]
  },
  {
   "cell_type": "code",
   "execution_count": null,
   "id": "9a56644f-077f-487c-9832-a2d6d787ce10",
   "metadata": {},
   "outputs": [],
   "source": []
  }
 ],
 "metadata": {
  "kernelspec": {
   "display_name": "Python 3 (ipykernel)",
   "language": "python",
   "name": "python3"
  },
  "language_info": {
   "codemirror_mode": {
    "name": "ipython",
    "version": 3
   },
   "file_extension": ".py",
   "mimetype": "text/x-python",
   "name": "python",
   "nbconvert_exporter": "python",
   "pygments_lexer": "ipython3",
   "version": "3.11.11"
  }
 },
 "nbformat": 4,
 "nbformat_minor": 5
}
