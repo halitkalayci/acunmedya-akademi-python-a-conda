{
 "cells": [
  {
   "cell_type": "code",
   "execution_count": null,
   "id": "e09de443-6ef2-4cc6-b233-69d1963b496d",
   "metadata": {},
   "outputs": [],
   "source": []
  }
 ],
 "metadata": {
  "kernelspec": {
   "display_name": "",
   "name": ""
  },
  "language_info": {
   "name": ""
  }
 },
 "nbformat": 4,
 "nbformat_minor": 5
}
