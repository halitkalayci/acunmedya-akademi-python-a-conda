{
 "cells": [
  {
   "cell_type": "markdown",
   "id": "0aa3cd44-3dca-4ae7-9e5f-6e01a0ea6c98",
   "metadata": {},
   "source": [
    "### Numpy (NumericPython)"
   ]
  },
  {
   "cell_type": "code",
   "execution_count": 1,
   "id": "fb8954f3-7b31-4c88-85a8-e9f679a2ad8c",
   "metadata": {},
   "outputs": [
    {
     "name": "stdout",
     "output_type": "stream",
     "text": [
      "Requirement already satisfied: numpy in c:\\users\\pc1\\miniconda3\\envs\\python_a\\lib\\site-packages (2.0.2)\n"
     ]
    }
   ],
   "source": [
    "!pip install numpy"
   ]
  },
  {
   "cell_type": "code",
   "execution_count": 1,
   "id": "a5f40385-387c-4814-bbcf-df735c707d0e",
   "metadata": {},
   "outputs": [
    {
     "data": {
      "text/plain": [
       "array([10, 20, 30, 40, 50])"
      ]
     },
     "execution_count": 1,
     "metadata": {},
     "output_type": "execute_result"
    }
   ],
   "source": [
    "import numpy as np\n",
    "# ndarray\n",
    "n1 = np.array([10,20,30,40,50])\n",
    "n1"
   ]
  },
  {
   "cell_type": "code",
   "execution_count": 4,
   "id": "ba60799c-12dc-47be-a26e-3ce81568fcdb",
   "metadata": {},
   "outputs": [
    {
     "data": {
      "text/plain": [
       "[1, 2, 3, 4, 5]"
      ]
     },
     "execution_count": 4,
     "metadata": {},
     "output_type": "execute_result"
    }
   ],
   "source": [
    "p1 = [1,2,3,4,5]\n",
    "p1"
   ]
  },
  {
   "cell_type": "code",
   "execution_count": 5,
   "id": "919af630-1a2e-4b1e-99f3-80e004e482b2",
   "metadata": {},
   "outputs": [
    {
     "data": {
      "text/plain": [
       "numpy.ndarray"
      ]
     },
     "execution_count": 5,
     "metadata": {},
     "output_type": "execute_result"
    }
   ],
   "source": [
    "type(n1)"
   ]
  },
  {
   "cell_type": "code",
   "execution_count": 6,
   "id": "53b621c2-de4b-4e8c-9e99-c86c6c06a0eb",
   "metadata": {},
   "outputs": [
    {
     "data": {
      "text/plain": [
       "list"
      ]
     },
     "execution_count": 6,
     "metadata": {},
     "output_type": "execute_result"
    }
   ],
   "source": [
    "type(p1)"
   ]
  },
  {
   "cell_type": "code",
   "execution_count": 7,
   "id": "23b950ee-f2c7-472b-ba32-f9f3a4e0a227",
   "metadata": {},
   "outputs": [],
   "source": [
    "# ND => N dimensional"
   ]
  },
  {
   "cell_type": "code",
   "execution_count": 2,
   "id": "bf6ce816-32ae-4fe0-8512-8077681034a8",
   "metadata": {},
   "outputs": [],
   "source": [
    "py_list = list(range(1_000_000)) # 1m python array\n",
    "np_array = np.array(py_list) # 1m numpy array"
   ]
  },
  {
   "cell_type": "code",
   "execution_count": 3,
   "id": "72de62f1-2c91-4dd1-bf28-6d64f49ae24e",
   "metadata": {},
   "outputs": [
    {
     "name": "stdout",
     "output_type": "stream",
     "text": [
      "29.5 ms ± 1.13 ms per loop (mean ± std. dev. of 7 runs, 10 loops each)\n"
     ]
    }
   ],
   "source": [
    "%%timeit\n",
    "[x+1 for x in py_list]"
   ]
  },
  {
   "cell_type": "code",
   "execution_count": 4,
   "id": "4005a54b-a684-4a7a-a674-f80f46206bfa",
   "metadata": {},
   "outputs": [
    {
     "name": "stdout",
     "output_type": "stream",
     "text": [
      "1.09 ms ± 13.8 μs per loop (mean ± std. dev. of 7 runs, 1,000 loops each)\n"
     ]
    }
   ],
   "source": [
    "%%timeit\n",
    "np_array + 1"
   ]
  },
  {
   "cell_type": "code",
   "execution_count": 14,
   "id": "20ec06ef-93e2-48a3-abac-505ed61ced1e",
   "metadata": {},
   "outputs": [],
   "source": [
    "### Scalar,Vector,Matrix,Tensor\n",
    "### 1D, 2D, 3D ndarrayler\n",
    "### Transpoz, Diskr."
   ]
  },
  {
   "cell_type": "code",
   "execution_count": 5,
   "id": "c23f5882-1eb5-4079-8d19-d16b39b61cd6",
   "metadata": {},
   "outputs": [
    {
     "data": {
      "text/plain": [
       "array(1)"
      ]
     },
     "execution_count": 5,
     "metadata": {},
     "output_type": "execute_result"
    }
   ],
   "source": [
    "scalar_arr = np.array(1)\n",
    "scalar_arr"
   ]
  },
  {
   "cell_type": "code",
   "execution_count": 7,
   "id": "4c9bc743-b2f0-4404-849a-baf846ebb1dc",
   "metadata": {},
   "outputs": [
    {
     "data": {
      "text/plain": [
       "array([10, 20, 30])"
      ]
     },
     "execution_count": 7,
     "metadata": {},
     "output_type": "execute_result"
    }
   ],
   "source": [
    "vector_arr = np.array([ 10, 20 , 30 ])\n",
    "vector_arr"
   ]
  },
  {
   "cell_type": "code",
   "execution_count": 9,
   "id": "c6100f2d-3aa8-4199-80f4-b28b798dd8ef",
   "metadata": {},
   "outputs": [
    {
     "data": {
      "text/plain": [
       "1"
      ]
     },
     "execution_count": 9,
     "metadata": {},
     "output_type": "execute_result"
    }
   ],
   "source": [
    "#Arrayin boyutunu öğrenmek\n",
    "# ndim -> n dimension\n",
    "vector_arr.ndim"
   ]
  },
  {
   "cell_type": "code",
   "execution_count": 10,
   "id": "22433a73-ee48-4079-8ad7-59df02221068",
   "metadata": {},
   "outputs": [
    {
     "data": {
      "text/plain": [
       "array([50, 60, 70])"
      ]
     },
     "execution_count": 10,
     "metadata": {},
     "output_type": "execute_result"
    }
   ],
   "source": [
    "vector_arr2 = np.array([ 50, 60, 70])\n",
    "vector_arr2"
   ]
  },
  {
   "cell_type": "code",
   "execution_count": 11,
   "id": "383a8c41-beed-4381-acf7-d162a93c5ae2",
   "metadata": {},
   "outputs": [
    {
     "data": {
      "text/plain": [
       "array([ 60,  80, 100])"
      ]
     },
     "execution_count": 11,
     "metadata": {},
     "output_type": "execute_result"
    }
   ],
   "source": [
    "# Arrayler arası işlemler (Vector)\n",
    "result = vector_arr + vector_arr2\n",
    "result"
   ]
  },
  {
   "cell_type": "code",
   "execution_count": null,
   "id": "59f4520a-3f85-494e-b616-9e9123cb6511",
   "metadata": {},
   "outputs": [],
   "source": []
  }
 ],
 "metadata": {
  "kernelspec": {
   "display_name": "Python 3 (ipykernel)",
   "language": "python",
   "name": "python3"
  },
  "language_info": {
   "codemirror_mode": {
    "name": "ipython",
    "version": 3
   },
   "file_extension": ".py",
   "mimetype": "text/x-python",
   "name": "python",
   "nbconvert_exporter": "python",
   "pygments_lexer": "ipython3",
   "version": "3.11.11"
  }
 },
 "nbformat": 4,
 "nbformat_minor": 5
}
