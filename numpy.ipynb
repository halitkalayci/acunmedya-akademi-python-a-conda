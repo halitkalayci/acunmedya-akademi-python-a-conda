{
 "cells": [
  {
   "cell_type": "markdown",
   "id": "0aa3cd44-3dca-4ae7-9e5f-6e01a0ea6c98",
   "metadata": {},
   "source": [
    "### Numpy (NumericPython)"
   ]
  },
  {
   "cell_type": "code",
   "execution_count": 1,
   "id": "fb8954f3-7b31-4c88-85a8-e9f679a2ad8c",
   "metadata": {},
   "outputs": [
    {
     "name": "stdout",
     "output_type": "stream",
     "text": [
      "Requirement already satisfied: numpy in c:\\users\\pc1\\miniconda3\\envs\\python_a\\lib\\site-packages (2.0.2)\n"
     ]
    }
   ],
   "source": [
    "!pip install numpy"
   ]
  },
  {
   "cell_type": "code",
   "execution_count": 1,
   "id": "a5f40385-387c-4814-bbcf-df735c707d0e",
   "metadata": {},
   "outputs": [
    {
     "data": {
      "text/plain": [
       "array([10, 20, 30, 40, 50])"
      ]
     },
     "execution_count": 1,
     "metadata": {},
     "output_type": "execute_result"
    }
   ],
   "source": [
    "import numpy as np\n",
    "# ndarray\n",
    "n1 = np.array([10,20,30,40,50])\n",
    "n1"
   ]
  },
  {
   "cell_type": "code",
   "execution_count": 4,
   "id": "ba60799c-12dc-47be-a26e-3ce81568fcdb",
   "metadata": {},
   "outputs": [
    {
     "data": {
      "text/plain": [
       "[1, 2, 3, 4, 5]"
      ]
     },
     "execution_count": 4,
     "metadata": {},
     "output_type": "execute_result"
    }
   ],
   "source": [
    "p1 = [1,2,3,4,5]\n",
    "p1"
   ]
  },
  {
   "cell_type": "code",
   "execution_count": 5,
   "id": "919af630-1a2e-4b1e-99f3-80e004e482b2",
   "metadata": {},
   "outputs": [
    {
     "data": {
      "text/plain": [
       "numpy.ndarray"
      ]
     },
     "execution_count": 5,
     "metadata": {},
     "output_type": "execute_result"
    }
   ],
   "source": [
    "type(n1)"
   ]
  },
  {
   "cell_type": "code",
   "execution_count": 6,
   "id": "53b621c2-de4b-4e8c-9e99-c86c6c06a0eb",
   "metadata": {},
   "outputs": [
    {
     "data": {
      "text/plain": [
       "list"
      ]
     },
     "execution_count": 6,
     "metadata": {},
     "output_type": "execute_result"
    }
   ],
   "source": [
    "type(p1)"
   ]
  },
  {
   "cell_type": "code",
   "execution_count": 7,
   "id": "23b950ee-f2c7-472b-ba32-f9f3a4e0a227",
   "metadata": {},
   "outputs": [],
   "source": [
    "# ND => N dimensional"
   ]
  },
  {
   "cell_type": "code",
   "execution_count": 2,
   "id": "bf6ce816-32ae-4fe0-8512-8077681034a8",
   "metadata": {},
   "outputs": [],
   "source": [
    "py_list = list(range(1_000_000)) # 1m python array\n",
    "np_array = np.array(py_list) # 1m numpy array"
   ]
  },
  {
   "cell_type": "code",
   "execution_count": 3,
   "id": "72de62f1-2c91-4dd1-bf28-6d64f49ae24e",
   "metadata": {},
   "outputs": [
    {
     "name": "stdout",
     "output_type": "stream",
     "text": [
      "29.5 ms ± 1.13 ms per loop (mean ± std. dev. of 7 runs, 10 loops each)\n"
     ]
    }
   ],
   "source": [
    "%%timeit\n",
    "[x+1 for x in py_list]"
   ]
  },
  {
   "cell_type": "code",
   "execution_count": 4,
   "id": "4005a54b-a684-4a7a-a674-f80f46206bfa",
   "metadata": {},
   "outputs": [
    {
     "name": "stdout",
     "output_type": "stream",
     "text": [
      "1.09 ms ± 13.8 μs per loop (mean ± std. dev. of 7 runs, 1,000 loops each)\n"
     ]
    }
   ],
   "source": [
    "%%timeit\n",
    "np_array + 1"
   ]
  },
  {
   "cell_type": "code",
   "execution_count": 14,
   "id": "20ec06ef-93e2-48a3-abac-505ed61ced1e",
   "metadata": {},
   "outputs": [],
   "source": [
    "### Scalar,Vector,Matrix,Tensor\n",
    "### 1D, 2D, 3D ndarrayler\n",
    "### Transpoz, Diskr."
   ]
  },
  {
   "cell_type": "code",
   "execution_count": 5,
   "id": "c23f5882-1eb5-4079-8d19-d16b39b61cd6",
   "metadata": {},
   "outputs": [
    {
     "data": {
      "text/plain": [
       "array(1)"
      ]
     },
     "execution_count": 5,
     "metadata": {},
     "output_type": "execute_result"
    }
   ],
   "source": [
    "scalar_arr = np.array(1)\n",
    "scalar_arr"
   ]
  },
  {
   "cell_type": "code",
   "execution_count": 13,
   "id": "4c9bc743-b2f0-4404-849a-baf846ebb1dc",
   "metadata": {},
   "outputs": [
    {
     "data": {
      "text/plain": [
       "array([10, 20, 30])"
      ]
     },
     "execution_count": 13,
     "metadata": {},
     "output_type": "execute_result"
    }
   ],
   "source": [
    "vector_arr = np.array([ 10, 20, 30 ])\n",
    "vector_arr"
   ]
  },
  {
   "cell_type": "code",
   "execution_count": null,
   "id": "f70b5ee7-163d-4cf5-b555-61ee4ac43e7a",
   "metadata": {},
   "outputs": [],
   "source": [
    "#Arrayin boyutunu öğrenmek\n",
    "# ndim -> n dimension\n",
    "vector_arr.ndim"
   ]
  },
  {
   "cell_type": "code",
   "execution_count": 10,
   "id": "22433a73-ee48-4079-8ad7-59df02221068",
   "metadata": {},
   "outputs": [
    {
     "data": {
      "text/plain": [
       "array([50, 60, 70])"
      ]
     },
     "execution_count": 10,
     "metadata": {},
     "output_type": "execute_result"
    }
   ],
   "source": [
    "vector_arr2 = np.array([ 50, 60, 70 ])\n",
    "vector_arr2"
   ]
  },
  {
   "cell_type": "code",
   "execution_count": 11,
   "id": "383a8c41-beed-4381-acf7-d162a93c5ae2",
   "metadata": {},
   "outputs": [
    {
     "data": {
      "text/plain": [
       "array([ 60,  80, 100])"
      ]
     },
     "execution_count": 11,
     "metadata": {},
     "output_type": "execute_result"
    }
   ],
   "source": [
    "# Arrayler arası işlemler (Vector)\n",
    "result = vector_arr + vector_arr2\n",
    "result"
   ]
  },
  {
   "cell_type": "markdown",
   "id": "306e04f4-647d-4653-b2df-51318e480986",
   "metadata": {},
   "source": [
    "#### ! (Shape) Şekil arrayler arası işlem için uyuşma sağlamalıdır.!"
   ]
  },
  {
   "cell_type": "code",
   "execution_count": 20,
   "id": "59f4520a-3f85-494e-b616-9e9123cb6511",
   "metadata": {},
   "outputs": [
    {
     "ename": "ValueError",
     "evalue": "operands could not be broadcast together with shapes (2,) (3,) ",
     "output_type": "error",
     "traceback": [
      "\u001b[31m---------------------------------------------------------------------------\u001b[39m",
      "\u001b[31mValueError\u001b[39m                                Traceback (most recent call last)",
      "\u001b[36mCell\u001b[39m\u001b[36m \u001b[39m\u001b[32mIn[20]\u001b[39m\u001b[32m, line 4\u001b[39m\n\u001b[32m      1\u001b[39m arr1 = np.array([\u001b[32m10\u001b[39m,\u001b[32m20\u001b[39m])\n\u001b[32m      2\u001b[39m arr2 = np.array([\u001b[32m30\u001b[39m,\u001b[32m40\u001b[39m,\u001b[32m50\u001b[39m])\n\u001b[32m----> \u001b[39m\u001b[32m4\u001b[39m arr1.shape, arr2.shape, \u001b[43marr1\u001b[49m\u001b[43m+\u001b[49m\u001b[43marr2\u001b[49m\n",
      "\u001b[31mValueError\u001b[39m: operands could not be broadcast together with shapes (2,) (3,) "
     ]
    }
   ],
   "source": [
    "arr1 = np.array([10,20])\n",
    "arr2 = np.array([30,40,50])\n",
    "\n",
    "arr1.shape, arr2.shape, arr1+arr2"
   ]
  },
  {
   "cell_type": "code",
   "execution_count": 23,
   "id": "05a15219-d3c2-42e5-97c4-5eac377fe57e",
   "metadata": {},
   "outputs": [
    {
     "data": {
      "text/plain": [
       "(2, (2, 3))"
      ]
     },
     "execution_count": 23,
     "metadata": {},
     "output_type": "execute_result"
    }
   ],
   "source": [
    "arr3 = np.array(\n",
    "    [\n",
    "        [ 10, 20, 30 ],\n",
    "        [ 30, 40, 50 ]\n",
    "    ] \n",
    ") \n",
    "arr3.ndim, arr3.shape"
   ]
  },
  {
   "cell_type": "code",
   "execution_count": 24,
   "id": "00b16342-612d-4b73-8860-7bdb0cdf770d",
   "metadata": {},
   "outputs": [
    {
     "data": {
      "text/plain": [
       "(2, (2, 3))"
      ]
     },
     "execution_count": 24,
     "metadata": {},
     "output_type": "execute_result"
    }
   ],
   "source": [
    "arr4 = np.array(\n",
    "    [\n",
    "        [60,70,80],\n",
    "        [90,100,110]\n",
    "    ]\n",
    ")\n",
    "arr4.ndim, arr4.shape"
   ]
  },
  {
   "cell_type": "code",
   "execution_count": 26,
   "id": "85c3831e-978f-4e2b-aa8f-daca9d76016c",
   "metadata": {},
   "outputs": [
    {
     "data": {
      "text/plain": [
       "array([[ 70,  90, 110],\n",
       "       [120, 140, 160]])"
      ]
     },
     "execution_count": 26,
     "metadata": {},
     "output_type": "execute_result"
    }
   ],
   "source": [
    "result = arr3+arr4\n",
    "result"
   ]
  },
  {
   "cell_type": "code",
   "execution_count": 27,
   "id": "1ec78e80-128a-497c-b153-7814e1c0b811",
   "metadata": {},
   "outputs": [
    {
     "data": {
      "text/plain": [
       "array([[50, 50, 50],\n",
       "       [60, 60, 60]])"
      ]
     },
     "execution_count": 27,
     "metadata": {},
     "output_type": "execute_result"
    }
   ],
   "source": [
    "result2 = arr4 - arr3\n",
    "result2"
   ]
  },
  {
   "cell_type": "code",
   "execution_count": 28,
   "id": "1cb9cda8-b3de-4822-a15e-3c92954ef267",
   "metadata": {},
   "outputs": [
    {
     "data": {
      "text/plain": [
       "(2, (3, 2))"
      ]
     },
     "execution_count": 28,
     "metadata": {},
     "output_type": "execute_result"
    }
   ],
   "source": [
    "arr5 = np.array([\n",
    "    [30,40],\n",
    "    [50,60],\n",
    "    [70,80]\n",
    "])\n",
    "arr5.ndim, arr5.shape"
   ]
  },
  {
   "cell_type": "code",
   "execution_count": 29,
   "id": "ea88c9a7-cc9e-4521-b2eb-b73f1390331d",
   "metadata": {},
   "outputs": [
    {
     "ename": "ValueError",
     "evalue": "operands could not be broadcast together with shapes (2,3) (3,2) ",
     "output_type": "error",
     "traceback": [
      "\u001b[31m---------------------------------------------------------------------------\u001b[39m",
      "\u001b[31mValueError\u001b[39m                                Traceback (most recent call last)",
      "\u001b[36mCell\u001b[39m\u001b[36m \u001b[39m\u001b[32mIn[29]\u001b[39m\u001b[32m, line 3\u001b[39m\n\u001b[32m      1\u001b[39m \u001b[38;5;66;03m# (2,3) shape ile (3,2) shape matris toplamı?\u001b[39;00m\n\u001b[32m----> \u001b[39m\u001b[32m3\u001b[39m \u001b[43marr4\u001b[49m\u001b[43m+\u001b[49m\u001b[43marr5\u001b[49m\n",
      "\u001b[31mValueError\u001b[39m: operands could not be broadcast together with shapes (2,3) (3,2) "
     ]
    }
   ],
   "source": [
    "# (2,3) shape ile (3,2) shape matris toplamı?\n",
    "# Shapelerin uygun olması lazım\n",
    "arr4+arr5"
   ]
  },
  {
   "cell_type": "code",
   "execution_count": 31,
   "id": "63183949-9b28-4d5c-8676-8f61b8fa718a",
   "metadata": {},
   "outputs": [
    {
     "data": {
      "text/plain": [
       "array([[ 90, 110, 130],\n",
       "       [150, 170, 190]])"
      ]
     },
     "execution_count": 31,
     "metadata": {},
     "output_type": "execute_result"
    }
   ],
   "source": [
    "# Reshape işlemi.\n",
    "#    [30,40],\n",
    "#    [50,60],\n",
    "#    [70,80]\n",
    "arr4 + arr5.reshape(2,3)"
   ]
  },
  {
   "cell_type": "code",
   "execution_count": 33,
   "id": "776b427a-e101-4402-8628-dff280bb3aa5",
   "metadata": {},
   "outputs": [
    {
     "data": {
      "text/plain": [
       "array([[1800, 2800, 4000],\n",
       "       [5400, 7000, 8800]])"
      ]
     },
     "execution_count": 33,
     "metadata": {},
     "output_type": "execute_result"
    }
   ],
   "source": [
    "arr4 * arr5.reshape(2,3)"
   ]
  },
  {
   "cell_type": "code",
   "execution_count": 37,
   "id": "5f981dee-f02a-42f3-9caa-6b7fa0e89118",
   "metadata": {},
   "outputs": [
    {
     "data": {
      "text/plain": [
       "array([[10900, 13000],\n",
       "       [15400, 18400]])"
      ]
     },
     "execution_count": 37,
     "metadata": {},
     "output_type": "execute_result"
    }
   ],
   "source": [
    "# Dot Product -> İç Çarpım, Nokta Çarpım\n",
    "#arr4.shape,arr5.shape\n",
    "# İlk matrisin sütun sayısı, ikinci matrisin satır sayısına eşit olmalı.\n",
    "result = np.dot(arr4, arr5)\n",
    "result"
   ]
  },
  {
   "cell_type": "code",
   "execution_count": 38,
   "id": "a8ef514e-2ace-4091-8808-7e5ccad41b6f",
   "metadata": {},
   "outputs": [
    {
     "data": {
      "text/plain": [
       "(array([[ 60,  70,  80],\n",
       "        [ 90, 100, 110]]),\n",
       " array([[30, 40],\n",
       "        [50, 60],\n",
       "        [70, 80]]))"
      ]
     },
     "execution_count": 38,
     "metadata": {},
     "output_type": "execute_result"
    }
   ],
   "source": [
    "arr4, arr5"
   ]
  },
  {
   "cell_type": "code",
   "execution_count": 39,
   "id": "95f44a83-eaea-450b-963b-7f4e69c04895",
   "metadata": {},
   "outputs": [],
   "source": [
    "# İç çarpıma nerede ihtiyaç duyarız? -> Benzerlik, Projeksiyon, Lineer Kombinasyon"
   ]
  },
  {
   "cell_type": "markdown",
   "id": "7738bba6-b3e9-437d-bf87-5a2ab6ef82d4",
   "metadata": {},
   "source": [
    "# Tensor"
   ]
  },
  {
   "cell_type": "code",
   "execution_count": 41,
   "id": "0c8a1816-b4e5-42a7-a62d-158aec157b7d",
   "metadata": {},
   "outputs": [
    {
     "data": {
      "text/plain": [
       "(3, (4, 3, 2))"
      ]
     },
     "execution_count": 41,
     "metadata": {},
     "output_type": "execute_result"
    }
   ],
   "source": [
    "tensor1 = np.array(\n",
    "    [\n",
    "        [ [10,20], [30,40], [50,60]  ],\n",
    "        [ [70,80], [90,100], [110,120]  ],\n",
    "        [ [70,80], [90,100], [110,120]  ],\n",
    "        [ [70,80], [90,100], [110,120]  ]\n",
    "    ]\n",
    ")\n",
    "tensor1.ndim, tensor1.shape"
   ]
  },
  {
   "cell_type": "code",
   "execution_count": 42,
   "id": "edd7fd1d-0b32-4214-a3c7-2b8672671011",
   "metadata": {},
   "outputs": [
    {
     "data": {
      "text/plain": [
       "24"
      ]
     },
     "execution_count": 42,
     "metadata": {},
     "output_type": "execute_result"
    }
   ],
   "source": [
    "tensor1.size"
   ]
  },
  {
   "cell_type": "code",
   "execution_count": 43,
   "id": "d42e6e25-e81d-4bc6-8608-8541db079b09",
   "metadata": {},
   "outputs": [
    {
     "data": {
      "text/plain": [
       "array([[[156,  85,  24],\n",
       "        [236, 166,  42],\n",
       "        [ 10, 105, 236],\n",
       "        ...,\n",
       "        [ 34, 190, 160],\n",
       "        [129, 105, 191],\n",
       "        [234,  63, 118]],\n",
       "\n",
       "       [[ 83,  60,  35],\n",
       "        [ 30, 120,  21],\n",
       "        [244,  66, 174],\n",
       "        ...,\n",
       "        [174, 109,  27],\n",
       "        [186, 231, 191],\n",
       "        [ 83,  25,  65]],\n",
       "\n",
       "       [[ 21,  91,   3],\n",
       "        [102, 231, 137],\n",
       "        [ 98, 141, 126],\n",
       "        ...,\n",
       "        [ 43, 119, 144],\n",
       "        [105,  62, 254],\n",
       "        [175,  18, 189]],\n",
       "\n",
       "       ...,\n",
       "\n",
       "       [[252, 152,   6],\n",
       "        [236, 248, 116],\n",
       "        [ 36,  60,  93],\n",
       "        ...,\n",
       "        [ 52, 125, 231],\n",
       "        [210, 122,  87],\n",
       "        [ 69,  71, 182]],\n",
       "\n",
       "       [[248, 251, 158],\n",
       "        [ 63,  11, 135],\n",
       "        [254, 116,  96],\n",
       "        ...,\n",
       "        [193,  46, 217],\n",
       "        [162, 143,  55],\n",
       "        [ 70, 117, 126]],\n",
       "\n",
       "       [[121,  87,  95],\n",
       "        [121, 180, 155],\n",
       "        [ 85,  17,  34],\n",
       "        ...,\n",
       "        [233, 213,  93],\n",
       "        [126,  84, 208],\n",
       "        [ 26,  61, 125]]], shape=(100, 100, 3), dtype=int32)"
      ]
     },
     "execution_count": 43,
     "metadata": {},
     "output_type": "execute_result"
    }
   ],
   "source": [
    "tensor2 = np.random.randint(0, 256, (100,100,3))\n",
    "tensor2"
   ]
  },
  {
   "cell_type": "code",
   "execution_count": 44,
   "id": "dc620c50-8299-4e50-95e5-13270afaaf10",
   "metadata": {},
   "outputs": [],
   "source": [
    "from PIL import Image"
   ]
  },
  {
   "cell_type": "code",
   "execution_count": 45,
   "id": "0289e3b7-fda4-4fe6-893f-8b3918000fd3",
   "metadata": {},
   "outputs": [],
   "source": [
    "image = Image.open(\"kedi.jpg\")"
   ]
  },
  {
   "cell_type": "code",
   "execution_count": 46,
   "id": "d4f3ceab-5aa4-49ec-ba82-a6af034c813e",
   "metadata": {},
   "outputs": [],
   "source": [
    "image_array = np.array(image)"
   ]
  },
  {
   "cell_type": "code",
   "execution_count": 47,
   "id": "313574fb-6e2f-4c04-8af3-673d6005804d",
   "metadata": {},
   "outputs": [
    {
     "data": {
      "text/plain": [
       "(1500, 1000, 3)"
      ]
     },
     "execution_count": 47,
     "metadata": {},
     "output_type": "execute_result"
    }
   ],
   "source": [
    "image_array.shape"
   ]
  },
  {
   "cell_type": "code",
   "execution_count": 48,
   "id": "f62a530c-32fa-4843-9342-f941fedb4449",
   "metadata": {},
   "outputs": [
    {
     "data": {
      "text/plain": [
       "array([[[ 92,  87,  84],\n",
       "        [ 92,  87,  84],\n",
       "        [ 92,  87,  84],\n",
       "        ...,\n",
       "        [ 96, 101, 104],\n",
       "        [ 99, 104, 107],\n",
       "        [101, 106, 109]],\n",
       "\n",
       "       [[ 92,  87,  84],\n",
       "        [ 92,  87,  84],\n",
       "        [ 92,  87,  84],\n",
       "        ...,\n",
       "        [ 96, 101, 104],\n",
       "        [ 99, 104, 107],\n",
       "        [101, 106, 109]],\n",
       "\n",
       "       [[ 92,  87,  84],\n",
       "        [ 92,  87,  84],\n",
       "        [ 92,  87,  84],\n",
       "        ...,\n",
       "        [ 96, 101, 104],\n",
       "        [ 99, 104, 107],\n",
       "        [101, 106, 109]],\n",
       "\n",
       "       ...,\n",
       "\n",
       "       [[  2,   2,   4],\n",
       "        [  2,   2,   4],\n",
       "        [  2,   2,   4],\n",
       "        ...,\n",
       "        [ 35,  25,  23],\n",
       "        [ 35,  25,  23],\n",
       "        [ 35,  25,  23]],\n",
       "\n",
       "       [[  2,   2,   4],\n",
       "        [  2,   2,   4],\n",
       "        [  2,   2,   4],\n",
       "        ...,\n",
       "        [ 36,  26,  24],\n",
       "        [ 36,  26,  24],\n",
       "        [ 36,  26,  24]],\n",
       "\n",
       "       [[  3,   3,   5],\n",
       "        [  3,   3,   5],\n",
       "        [  3,   3,   5],\n",
       "        ...,\n",
       "        [ 37,  27,  25],\n",
       "        [ 37,  27,  25],\n",
       "        [ 37,  27,  25]]], shape=(1500, 1000, 3), dtype=uint8)"
      ]
     },
     "execution_count": 48,
     "metadata": {},
     "output_type": "execute_result"
    }
   ],
   "source": [
    "image_array"
   ]
  },
  {
   "cell_type": "code",
   "execution_count": null,
   "id": "12309579-10ab-429a-82f6-fe941010688c",
   "metadata": {},
   "outputs": [],
   "source": []
  }
 ],
 "metadata": {
  "kernelspec": {
   "display_name": "Python 3 (ipykernel)",
   "language": "python",
   "name": "python3"
  },
  "language_info": {
   "codemirror_mode": {
    "name": "ipython",
    "version": 3
   },
   "file_extension": ".py",
   "mimetype": "text/x-python",
   "name": "python",
   "nbconvert_exporter": "python",
   "pygments_lexer": "ipython3",
   "version": "3.11.11"
  }
 },
 "nbformat": 4,
 "nbformat_minor": 5
}
