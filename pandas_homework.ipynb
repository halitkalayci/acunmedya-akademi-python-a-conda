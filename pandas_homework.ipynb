{
 "cells": [
  {
   "cell_type": "markdown",
   "id": "d9b49837-b3d1-40ca-9413-67ac0ae610b6",
   "metadata": {},
   "source": [
    "### https://www.kaggle.com/datasets"
   ]
  },
  {
   "cell_type": "markdown",
   "id": "f997ca9e-1a99-433b-91e0-6cc9bb536aa7",
   "metadata": {},
   "source": [
    "Datasetlerden herhangi bir dataset seçmek\n",
    "\n",
    "Pandas kütüphanesi ile bu dataseti görüntülemek, analiz etmek ve eksik veri kalmayacak şekidle yeni bir csv dosyasına kaydetmek."
   ]
  },
  {
   "cell_type": "code",
   "execution_count": null,
   "id": "52f8b183-f58b-4434-96c2-ced3dc7db041",
   "metadata": {},
   "outputs": [],
   "source": []
  }
 ],
 "metadata": {
  "kernelspec": {
   "display_name": "Python 3 (ipykernel)",
   "language": "python",
   "name": "python3"
  },
  "language_info": {
   "codemirror_mode": {
    "name": "ipython",
    "version": 3
   },
   "file_extension": ".py",
   "mimetype": "text/x-python",
   "name": "python",
   "nbconvert_exporter": "python",
   "pygments_lexer": "ipython3",
   "version": "3.9.21"
  }
 },
 "nbformat": 4,
 "nbformat_minor": 5
}
